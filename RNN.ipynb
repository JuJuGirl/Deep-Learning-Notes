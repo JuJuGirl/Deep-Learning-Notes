{
 "cells": [
  {
   "cell_type": "code",
   "execution_count": 0,
   "metadata": {
    "collapsed": true,
    "pycharm": {
     "is_executing": false
    }
   },
   "outputs": [],
   "source": []
  },
  {
   "cell_type": "markdown",
   "source": [
    "Slot Filling Problem: \n",
    "    问题简述：比如自动订票系统中输入：买一张7月1日飞往台北的机票 (arrive Taibei on July 1st)；买一张7月1日离开台北的机票 (leave Taibei on July 1st).\n",
    "    Def: slot位置，e.g. 台北是一个城市，属于一个slot城市， 01/07/2019是一个日期，属于另一个slot日期\n",
    "    Solve it: Feedforward network\n",
    "        Input: a word (Each word is represented as a vector)\n",
    "        Output: Probability distribution that the input word belonging to the slots.\n",
    "        引入概念： \n",
    "            1-of-N Encoding\n",
    "            Beyond 1-of-N encoding (add a dimension for \"other\" )\n",
    "    新的问题： output无法区分台北是出发地还是到达地 --> 寄希望于neural network是有记忆的，在看到Taibei之前看到过arrive --> 引入RNN\n",
    "  \n"
   ],
   "metadata": {
    "collapsed": false
   }
  },
  {
   "cell_type": "markdown",
   "source": [
    "RNN: \n",
    "  * 特点：有记忆. The output of the hidden layer(neural) is stored in the memory. Memory can be consisted as another input.\n",
    "  * Example:\n",
    "    ![image](RNN1)\n",
    "    \n"
   ],
   "metadata": {
    "collapsed": false
   }
  }
 ],
 "metadata": {
  "language_info": {
   "codemirror_mode": {
    "name": "ipython",
    "version": 2
   },
   "file_extension": ".py",
   "mimetype": "text/x-python",
   "name": "python",
   "nbconvert_exporter": "python",
   "pygments_lexer": "ipython2",
   "version": "2.7.6"
  },
  "kernelspec": {
   "name": "python3",
   "language": "python",
   "display_name": "Python 3"
  },
  "pycharm": {
   "stem_cell": {
    "cell_type": "raw",
    "source": [],
    "metadata": {
     "collapsed": false
    }
   }
  }
 },
 "nbformat": 4,
 "nbformat_minor": 0
}